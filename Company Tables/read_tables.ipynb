{
 "cells": [
  {
   "cell_type": "code",
   "execution_count": 1,
   "metadata": {},
   "outputs": [],
   "source": [
    "\"\"\"\n",
    "root -> document\n",
    "root[i] -> ith table\n",
    "root[i][0] -> metadata of ith table\n",
    "root[i][0][0] -> company name\n",
    "root[i][0][1] -> source\n",
    "root[i][0][2] -> type\n",
    "root[i][1] -> header\n",
    "root[i][j] -> jth row of ith table (j>1)\n",
    "\"\"\"\n",
    "import xml.etree.ElementTree as ET\n",
    "import pandas as pd\n",
    "import dataframe_image as dfi"
   ]
  },
  {
   "cell_type": "code",
   "execution_count": 2,
   "metadata": {},
   "outputs": [],
   "source": [
    "def seeTable(n):\n",
    "    tree = ET.parse('tables.xml')\n",
    "    root = tree.getroot()\n",
    "\n",
    "    comp = root[n][0][0].text\n",
    "    source = root[n][0][1].text\n",
    "    typename = root[n][0][2].text\n",
    "\n",
    "    head = root[n][1].text.strip().split('|')\n",
    "    table = []\n",
    "    for i in range(2, len(root[n])):\n",
    "        table.append(root[n][i].text.strip().split('|'))\n",
    "\n",
    "    table = pd.DataFrame(table, columns=head)\n",
    "    \n",
    "    # print(comp, '\\n', source, '\\n', typename)\n",
    "    # print(table)\n",
    "\n",
    "    return comp,source,typename,table\n"
   ]
  },
  {
   "cell_type": "code",
   "execution_count": 3,
   "metadata": {},
   "outputs": [
    {
     "name": "stdout",
     "output_type": "stream",
     "text": [
      "TCS\n",
      "\n",
      "                https://groww.in/stocks/tata-consultancy-services-ltd/company-financial/cash-flow\n",
      "cash-flow\n"
     ]
    }
   ],
   "source": [
    "num = 5\n",
    "comp,source,typename,table = seeTable(num)\n",
    "\n",
    "print(comp)\n",
    "print(source)\n",
    "print(typename)"
   ]
  },
  {
   "cell_type": "code",
   "execution_count": 4,
   "metadata": {},
   "outputs": [
    {
     "name": "stdout",
     "output_type": "stream",
     "text": [
      "                           Particulars       2019       2020       2021   \\\n",
      "0                 Opening Cash Balance      4,883      7,224      8,646    \n",
      "1  Cash Flow From Operating Activities     28,593     32,369     38,802    \n",
      "2  Cash Flow From Investing Activities      1,645      8,968     -7,956    \n",
      "3  Cash Flow From Financing Activities    -27,897    -39,915    -32,634    \n",
      "4                 Closing Cash Balance      7,224      8,646      6,858    \n",
      "5                   Net Change In Cash      2,341      1,422     -1,788    \n",
      "\n",
      "       2022       2023     \n",
      "0     6,858     12,488     \n",
      "1    39,949     41,965     \n",
      "2   -738.00     548.00     \n",
      "3   -33,581    -47,878     \n",
      "4    12,488      7,123     \n",
      "5     5,630     -5,365     \n"
     ]
    }
   ],
   "source": [
    "print(table)"
   ]
  },
  {
   "cell_type": "code",
   "execution_count": 5,
   "metadata": {},
   "outputs": [],
   "source": [
    "dfi.export(table, 'Images\\\\table-'+str(num)+'-'+comp+'.png')"
   ]
  },
  {
   "cell_type": "code",
   "execution_count": null,
   "metadata": {},
   "outputs": [],
   "source": [
    "# for i in range(1509):\n",
    "for i in range(15):\n",
    "    num = i\n",
    "    comp,source,typename,table = seeTable(num)\n",
    "\n",
    "    if(i%3 == 0):\n",
    "        folder = 'IS'\n",
    "    elif(i%3 == 1):\n",
    "        folder = 'BS'\n",
    "    else:\n",
    "        folder = 'CF'\n",
    "    \n",
    "    dfi.export(table, 'Images\\\\'+folder+'\\\\table-'+str(num)+'-'+comp+'.png')"
   ]
  },
  {
   "cell_type": "code",
   "execution_count": null,
   "metadata": {},
   "outputs": [],
   "source": []
  }
 ],
 "metadata": {
  "kernelspec": {
   "display_name": "Python 3",
   "language": "python",
   "name": "python3"
  },
  "language_info": {
   "codemirror_mode": {
    "name": "ipython",
    "version": 3
   },
   "file_extension": ".py",
   "mimetype": "text/x-python",
   "name": "python",
   "nbconvert_exporter": "python",
   "pygments_lexer": "ipython3",
   "version": "3.12.1"
  }
 },
 "nbformat": 4,
 "nbformat_minor": 2
}
