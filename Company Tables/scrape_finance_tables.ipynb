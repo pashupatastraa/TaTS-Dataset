{
 "cells": [
  {
   "cell_type": "markdown",
   "id": "5ee7a61d",
   "metadata": {},
   "source": [
    "Setting up display"
   ]
  },
  {
   "cell_type": "code",
   "execution_count": 1,
   "id": "3201061c-0bde-4105-95c8-a55a3dc12f6f",
   "metadata": {},
   "outputs": [],
   "source": [
    "from IPython.display import HTML, display\n",
    "import time"
   ]
  },
  {
   "cell_type": "code",
   "execution_count": 15,
   "id": "3de2918c",
   "metadata": {},
   "outputs": [],
   "source": [
    "def progress(n):\n",
    "    return HTML(\"\"\" Collected company count: {num}\"\"\".format(num=n))"
   ]
  },
  {
   "cell_type": "markdown",
   "id": "c2cb6dd0",
   "metadata": {},
   "source": [
    "Get List of Companies"
   ]
  },
  {
   "cell_type": "code",
   "execution_count": 18,
   "id": "067d346e",
   "metadata": {},
   "outputs": [],
   "source": [
    "def getLinks(url):\n",
    "    import requests\n",
    "    from bs4 import BeautifulSoup\n",
    "\n",
    "    response = requests.get(url)\n",
    "\n",
    "    if response.status_code == 200:\n",
    "        soup = BeautifulSoup(response.content, 'html.parser')\n",
    "        table = soup.find('table', class_='tb10Table')\n",
    "        rows = table.find_all('tr')\n",
    "\n",
    "        data = []\n",
    "\n",
    "        for row in rows:\n",
    "            cols = row.find_all('td')\n",
    "            for col in cols:\n",
    "                link = col.find('a')\n",
    "                if link is not None:\n",
    "                    data.append(link)\n",
    "\n",
    "    else:\n",
    "        print(\"Failed to retrieve the web page. Status code:\", response.status_code)\n",
    "\n",
    "\n",
    "    links = []\n",
    "    name = []\n",
    "\n",
    "\n",
    "    for i in data:\n",
    "        s = str(i)\n",
    "        name.append(i.text)\n",
    "        links.append(s.split('/stocks/')[1].split('\"')[0])\n",
    "\n",
    "    return name,links"
   ]
  },
  {
   "cell_type": "code",
   "execution_count": 20,
   "metadata": {},
   "outputs": [
    {
     "data": {
      "text/html": [
       " Collected company count: 4314"
      ],
      "text/plain": [
       "<IPython.core.display.HTML object>"
      ]
     },
     "metadata": {},
     "output_type": "display_data"
    },
    {
     "name": "stdout",
     "output_type": "stream",
     "text": [
      "Collected a total of 4314 company names and corresponding page links.\n"
     ]
    }
   ],
   "source": [
    "out = display(progress(0), display_id=True)\n",
    "\n",
    "names = []\n",
    "links = []\n",
    "for page in range(1, 289):\n",
    "    if page == 1:\n",
    "        url = \"https://groww.in/stocks/filter\"\n",
    "    else:\n",
    "        url = 'https://groww.in/stocks/filter?closePriceHigh=100000&closePriceLow=0&marketCapHigh=2000000&marketCapLow=0&page='+str(page)+'&size=15&sortType=ASC'\n",
    "\n",
    "    name, link = getLinks(url)\n",
    "    names += name\n",
    "    links += link\n",
    "\n",
    "    out.update(progress(len(names)))\n",
    "\n",
    "print(\"Collected a total of\", len(links), \"company names and corresponding page links.\")"
   ]
  },
  {
   "cell_type": "markdown",
   "id": "17b9d459",
   "metadata": {},
   "source": [
    "Example of collected company names and links"
   ]
  },
  {
   "cell_type": "code",
   "execution_count": 21,
   "id": "264ead6e",
   "metadata": {},
   "outputs": [
    {
     "name": "stdout",
     "output_type": "stream",
     "text": [
      "Company Name \t\t\t Link\n",
      "Reliance Industries \t\t\t reliance-industries-ltd\n",
      "TCS \t\t\t tata-consultancy-services-ltd\n",
      "HDFC Bank \t\t\t hdfc-bank-ltd\n",
      "ICICI Bank \t\t\t icici-bank-ltd\n",
      "Infosys \t\t\t infosys-ltd\n"
     ]
    }
   ],
   "source": [
    "print('Company Name', '\\t\\t\\t', 'Link')\n",
    "for i in range(5):\n",
    "  print(names[i], '\\t\\t\\t', links[i])"
   ]
  },
  {
   "cell_type": "markdown",
   "id": "7261420d",
   "metadata": {},
   "source": [
    "Storing collected information"
   ]
  },
  {
   "cell_type": "code",
   "execution_count": 23,
   "id": "b0d5ca33",
   "metadata": {},
   "outputs": [],
   "source": [
    "import csv\n",
    "\n",
    "file = open('company_names_&_page_links.csv', 'w', newline='', encoding='utf-8')\n",
    "wr = csv.writer(file)\n",
    "\n",
    "wr.writerow(['Company Names', 'Page Link Abbr'])\n",
    "\n",
    "for i in range(len(names)):\n",
    "  wr.writerow([names[i], links[i]])\n",
    "\n",
    "file.close()"
   ]
  },
  {
   "cell_type": "markdown",
   "id": "bb8789f8",
   "metadata": {},
   "source": [
    "Import from csv"
   ]
  },
  {
   "cell_type": "code",
   "execution_count": 2,
   "id": "ec429adc",
   "metadata": {},
   "outputs": [
    {
     "name": "stdout",
     "output_type": "stream",
     "text": [
      "4314 4314\n"
     ]
    }
   ],
   "source": [
    "import csv\n",
    "\n",
    "file = open('company_names_&_page_links.csv', 'r')\n",
    "c = csv.reader(file)\n",
    "\n",
    "k = 0\n",
    "names = []\n",
    "links = []\n",
    "\n",
    "for i in c:\n",
    "    if k>0:\n",
    "        names.append(i[0])\n",
    "        links.append(i[1])\n",
    "    k += 1\n",
    "file.close()\n",
    "\n",
    "\n",
    "print(len(names), len(links))"
   ]
  },
  {
   "cell_type": "markdown",
   "id": "d5839df7",
   "metadata": {},
   "source": [
    "SCRAPING TABLES"
   ]
  },
  {
   "cell_type": "code",
   "execution_count": 3,
   "id": "fc34e4f0",
   "metadata": {},
   "outputs": [],
   "source": [
    "from selenium import webdriver\n",
    "from selenium.webdriver.common.by import By\n",
    "from selenium.webdriver.support.ui import WebDriverWait\n",
    "from selenium.webdriver.support import expected_conditions as EC\n",
    "from bs4 import BeautifulSoup\n",
    "from IPython.display import HTML, display\n",
    "import time"
   ]
  },
  {
   "cell_type": "code",
   "execution_count": 4,
   "id": "b8b6b942",
   "metadata": {},
   "outputs": [],
   "source": [
    "def scrape_table(table_html):\n",
    "    data = []\n",
    "    headers = []\n",
    "    soup = BeautifulSoup(table_html, 'html.parser')\n",
    "\n",
    "    for th in soup.select('thead th'):\n",
    "        header_text = th.text.strip()\n",
    "        headers.append(header_text)\n",
    "    data.append(headers)\n",
    "\n",
    "    for row in soup.select('tbody tr'):\n",
    "        row_data = []\n",
    "        for td in row.select('td'):\n",
    "            cell_text = td.text.strip()\n",
    "            row_data.append(cell_text)\n",
    "        data.append(row_data)\n",
    "    return data"
   ]
  },
  {
   "cell_type": "code",
   "execution_count": 5,
   "id": "99657e27",
   "metadata": {},
   "outputs": [],
   "source": [
    "def getTable(link):\n",
    "    url = \"https://groww.in/stocks/\" + link +\"/company-financial/cash-flow\"\n",
    "    driver = webdriver.Chrome()\n",
    "    driver.get(url)\n",
    "\n",
    "    Cf = []\n",
    "    Bs = []\n",
    "    Is = []\n",
    "\n",
    "    html = driver.page_source\n",
    "    soup = BeautifulSoup(html, 'html.parser')\n",
    "    first_table = soup.find('table', class_='tb10Table')\n",
    "    first_table_data = scrape_table(first_table.prettify())\n",
    "    for row in first_table_data:\n",
    "        Cf.append(row)\n",
    "\n",
    "    balance_sheet_locator = (By.XPATH, \"//div[text()='Balance Sheet']\")\n",
    "    balance_sheet_button = WebDriverWait(driver, 10).until(EC.element_to_be_clickable(balance_sheet_locator))\n",
    "    balance_sheet_button.click()\n",
    "    time.sleep(1)\n",
    "    balance_sheet_locator = (By.CLASS_NAME, 'tb10Table')\n",
    "    balance_sheet_table = WebDriverWait(driver, 10).until(EC.presence_of_element_located(balance_sheet_locator))\n",
    "    balance_sheet_table_data = scrape_table(balance_sheet_table.get_attribute('outerHTML'))\n",
    "    for row in balance_sheet_table_data:\n",
    "        Bs.append(row)\n",
    "\n",
    "    income_statement_locator = (By.XPATH, \"//div[text()='Income Statement']\")\n",
    "    income_statement_button = WebDriverWait(driver, 10).until(EC.element_to_be_clickable(income_statement_locator))\n",
    "    income_statement_button.click()\n",
    "    time.sleep(1)\n",
    "    income_statement_table_locator = (By.CLASS_NAME, 'tb10Table')\n",
    "    income_statement_table = WebDriverWait(driver, 10).until(EC.presence_of_element_located(income_statement_table_locator))\n",
    "    income_statement_table_data = scrape_table(income_statement_table.get_attribute('outerHTML'))\n",
    "    for row in income_statement_table_data:\n",
    "        Is.append(row)\n",
    "\n",
    "    driver.quit()\n",
    "\n",
    "    return Is, Bs, Cf"
   ]
  },
  {
   "cell_type": "code",
   "execution_count": 6,
   "id": "31c52022",
   "metadata": {},
   "outputs": [],
   "source": [
    "def progress2(n1, n2):\n",
    "    return HTML(\"\"\"Processed company number: {num1} and table number: {num2}\"\"\".format(num1=n1, num2=n2))"
   ]
  },
  {
   "cell_type": "code",
   "execution_count": 14,
   "id": "588ebd26",
   "metadata": {},
   "outputs": [],
   "source": [
    "start = 503"
   ]
  },
  {
   "cell_type": "code",
   "execution_count": 15,
   "id": "c60cb42e",
   "metadata": {},
   "outputs": [
    {
     "data": {
      "text/html": [
       "Processed company number: 503 and table number: 1509"
      ],
      "text/plain": [
       "<IPython.core.display.HTML object>"
      ]
     },
     "metadata": {},
     "output_type": "display_data"
    }
   ],
   "source": [
    "types = ['income-statement', 'balance-sheet', 'cash-flow']\n",
    "\n",
    "import xml.etree.ElementTree as ET\n",
    "doc = ET.Element('document')\n",
    "\n",
    "out = display(progress2(0, 0), display_id=True)\n",
    "\n",
    "try:\n",
    "    for i in range(start, len(names)):\n",
    "        name = names[i]\n",
    "        link = links[i]\n",
    "        Is, Bs, Cf = getTable(links[i])\n",
    "\n",
    "        # print(Is, '\\n\\n')\n",
    "        # print(Bs, '\\n\\n')\n",
    "        # print(Cf, '\\n\\n')\n",
    "        \n",
    "        for j in range(3):\n",
    "            typename = types[j]\n",
    "\n",
    "            tb = ET.SubElement(doc, 'table')\n",
    "            md = ET.SubElement(tb, 'metadata')\n",
    "            md1 = ET.SubElement(md, 'CompanyName')\n",
    "            md1.text = name\n",
    "            md2 = ET.SubElement(md, 'Source')\n",
    "            md2.text = \"https://groww.in/stocks/\"+link+\"/company-financial/\"+typename\n",
    "            md3 = ET.SubElement(md, 'Type')\n",
    "            md3.text = typename\n",
    "\n",
    "\n",
    "            if(j == 0):\n",
    "                table = Is\n",
    "            elif(j == 1):\n",
    "                table = Bs\n",
    "            else:\n",
    "                table = Cf\n",
    "\n",
    "\n",
    "            head = ET.SubElement(tb, 'header')\n",
    "            text = ''\n",
    "            for k in table[0]:\n",
    "                text += k + ' | '\n",
    "            head.text = text\n",
    "\n",
    "            for k in table[1:]:\n",
    "                row = ET.SubElement(tb, 'row')\n",
    "                text = ''\n",
    "                for m in k:\n",
    "                    text += m + ' | '\n",
    "                row.text = text\n",
    "\n",
    "            out.update(progress2(i+1, 3*i + j+1))\n",
    "except:\n",
    "    b_xml = ET.tostring(doc)\n",
    "\n",
    "    file = open(\"tables.xml\", \"ab\")\n",
    "    file.write(b_xml)\n",
    "    file.close()\n",
    "    b_xml = ET.tostring(doc)\n",
    "\n",
    "file = open(\"tables.xml\", \"ab\")\n",
    "file.write(b_xml)\n",
    "file.close()\n"
   ]
  },
  {
   "cell_type": "code",
   "execution_count": null,
   "id": "42b0b78b",
   "metadata": {},
   "outputs": [],
   "source": []
  }
 ],
 "metadata": {
  "kernelspec": {
   "display_name": "Python 3 (ipykernel)",
   "language": "python",
   "name": "python3"
  },
  "language_info": {
   "codemirror_mode": {
    "name": "ipython",
    "version": 3
   },
   "file_extension": ".py",
   "mimetype": "text/x-python",
   "name": "python",
   "nbconvert_exporter": "python",
   "pygments_lexer": "ipython3",
   "version": "3.12.1"
  }
 },
 "nbformat": 4,
 "nbformat_minor": 5
}
