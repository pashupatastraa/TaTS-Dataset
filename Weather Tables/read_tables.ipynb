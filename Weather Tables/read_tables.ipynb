{
 "cells": [
  {
   "cell_type": "code",
   "execution_count": 1,
   "metadata": {},
   "outputs": [],
   "source": [
    "import xml.etree.ElementTree as ET\n",
    "import pandas as pd\n",
    "import dataframe_image as dfi"
   ]
  },
  {
   "cell_type": "code",
   "execution_count": 9,
   "metadata": {},
   "outputs": [],
   "source": [
    "def seeTable(n):\n",
    "    tree = ET.parse('weather_tables.xml')\n",
    "    root = tree.getroot()\n",
    "\n",
    "    state = root[n][0][0].text\n",
    "    district = root[n][0][1].text\n",
    "    forecastRange = root[n][0][2].text\n",
    "\n",
    "    head = root[n][1].text.strip().split('|')\n",
    "    table = []\n",
    "    for i in range(2, len(root[n])):\n",
    "        table.append(root[n][i].text.strip().split('|'))\n",
    "\n",
    "    table = pd.DataFrame(table, columns=head)\n",
    "\n",
    "    return state,district,forecastRange,table\n"
   ]
  },
  {
   "cell_type": "code",
   "execution_count": 11,
   "metadata": {},
   "outputs": [
    {
     "name": "stdout",
     "output_type": "stream",
     "text": [
      "Andhra Pradesh \n",
      " ANANTPUR \n",
      " 2024-02-07 to 2024-02-11\n",
      "  Forecast Date    Valid From    Valid Till   Rainfall(mm)   TempMax(deg C)   \\\n",
      "0    2024-02-07    2024-02-06    2024-02-07              0               36    \n",
      "1    2024-02-08    2024-02-07    2024-02-08              0               36    \n",
      "2    2024-02-09    2024-02-08    2024-02-09              0               36    \n",
      "3    2024-02-10    2024-02-09    2024-02-10              0               36    \n",
      "4    2024-02-11    2024-02-10    2024-02-11              0               36    \n",
      "\n",
      "  \\n            TempMin(deg C)   HumidityI(%)   HumidityII(%)   \\\n",
      "0                           20             72              24    \n",
      "1                           21             68              27    \n",
      "2                           21             70              25    \n",
      "3                           20             67              26    \n",
      "4                           21             71              28    \n",
      "\n",
      "   WindSpeed(m/s)   WindDirection(deg)  \\n            CloudCover(octa)   \\\n",
      "0               5                  110                               2    \n",
      "1               5                  130                               2    \n",
      "2               5                  150                               2    \n",
      "3               5                  140                               2    \n",
      "4               5                  120                               2    \n",
      "\n",
      "   Warning(If Any)  \n",
      "0                   \n",
      "1                   \n",
      "2                   \n",
      "3                   \n",
      "4                   \n"
     ]
    }
   ],
   "source": [
    "state,district,forecastRange,table = seeTable(0)"
   ]
  },
  {
   "cell_type": "code",
   "execution_count": 8,
   "metadata": {},
   "outputs": [
    {
     "name": "stdout",
     "output_type": "stream",
     "text": [
      "<Element 'document' at 0x0000024B79DD92B0>\n"
     ]
    }
   ],
   "source": [
    "tree = ET.parse('weather_tables.xml')\n",
    "root = tree.getroot()\n",
    "\n",
    "print(root)"
   ]
  },
  {
   "cell_type": "code",
   "execution_count": null,
   "metadata": {},
   "outputs": [],
   "source": []
  }
 ],
 "metadata": {
  "kernelspec": {
   "display_name": "Python 3",
   "language": "python",
   "name": "python3"
  },
  "language_info": {
   "codemirror_mode": {
    "name": "ipython",
    "version": 3
   },
   "file_extension": ".py",
   "mimetype": "text/x-python",
   "name": "python",
   "nbconvert_exporter": "python",
   "pygments_lexer": "ipython3",
   "version": "3.12.1"
  }
 },
 "nbformat": 4,
 "nbformat_minor": 2
}
